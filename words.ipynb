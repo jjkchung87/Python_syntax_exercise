{
 "cells": [
  {
   "cell_type": "code",
   "execution_count": null,
   "metadata": {},
   "outputs": [],
   "source": []
  },
  {
   "cell_type": "code",
   "execution_count": 5,
   "metadata": {},
   "outputs": [],
   "source": [
    "def print_words_upper (list,starts_with):\n",
    "#prints only words that start with 'e' (upper or lower case)\n",
    "    for word in list:\n",
    "        if word.startswith(starts_with):\n",
    "            print(word.upper())\n",
    "            break\n",
    "    \n",
    "wordlist = ['Bear','Beats','Battlestar Galactica','Eggs','Espresso','enron']\n",
    "\n",
    "print_words_upper(wordlist,'b')"
   ]
  },
  {
   "cell_type": "code",
   "execution_count": 9,
   "metadata": {},
   "outputs": [],
   "source": [
    "def print_upper_words3(words, must_start_with):\n",
    "    \"\"\"Print each word on sep line, uppercased, if starts with one of given\n",
    "\n",
    "        >>> print_upper_words3([\"eagle\", \"Edward\", \"Alfred\", \"zope\"],\n",
    "        ...                   must_start_with=[\"A\", \"E\"])\n",
    "        EDWARD\n",
    "        ALFRED\n",
    "    \"\"\"\n",
    "\n",
    "    for word in words:\n",
    "        for letter in must_start_with:\n",
    "            if word.startswith(letter):\n",
    "                print(word.upper())\n",
    "                break\n",
    "    \n",
    "wordlist = ['Bear','Beats','Battlestar Galactica','Eggs','Espresso','enron']\n",
    "\n",
    "print_upper_words3(wordlist,['b'])\n"
   ]
  }
 ],
 "metadata": {
  "kernelspec": {
   "display_name": "env_testpython",
   "language": "python",
   "name": "python3"
  },
  "language_info": {
   "codemirror_mode": {
    "name": "ipython",
    "version": 3
   },
   "file_extension": ".py",
   "mimetype": "text/x-python",
   "name": "python",
   "nbconvert_exporter": "python",
   "pygments_lexer": "ipython3",
   "version": "3.10.11"
  },
  "orig_nbformat": 4
 },
 "nbformat": 4,
 "nbformat_minor": 2
}
